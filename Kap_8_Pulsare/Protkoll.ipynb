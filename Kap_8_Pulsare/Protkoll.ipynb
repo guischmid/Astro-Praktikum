{
 "cells": [
  {
   "cell_type": "markdown",
   "metadata": {},
   "source": [
    "# Kapitel 8 Protokoll: Pulsare\n",
    "Guilherme Schmid\n",
    "## Beobachtung\n",
    "1. \n",
    "| PSR 0809 +74 | PSR 0950 +08 | PSR0329 +54 |\n",
    "|--------------|--------------|-------------|\n",
    "| 35mm         | 7mm          | 20mm        |\n",
    "2. \n",
    "| $v$           | $v_1<v_2$ | $v_2<v_3$ | $v_3<v_4$ |\n",
    "|---------------|------------|------------|------------|\n",
    "| PSR 0809 +74  | Row 1      | Row 1      | Row 1      |\n",
    "| PSR 0950 +08  | Row 2      | Row 2      | Row 2      |\n",
    "| PSR0329 +54   | Row 3      | Row 3      | Row 3      |\n",
    "\n",
    "3. Kalibrationsfaktor:\n"
   ]
  },
  {
   "cell_type": "code",
   "execution_count": null,
   "metadata": {},
   "outputs": [],
   "source": []
  }
 ],
 "metadata": {
  "language_info": {
   "name": "python"
  }
 },
 "nbformat": 4,
 "nbformat_minor": 2
}
