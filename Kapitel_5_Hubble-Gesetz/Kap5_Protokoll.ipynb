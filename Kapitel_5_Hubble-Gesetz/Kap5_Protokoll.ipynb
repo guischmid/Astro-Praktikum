{
 "cells": [
  {
   "cell_type": "markdown",
   "metadata": {},
   "source": [
    "# Astronomisches Praktikum Protokoll: Kapitel 5 Hubble Gesetz\n",
    "Guilherme Schmid\n"
   ]
  },
  {
   "cell_type": "markdown",
   "metadata": {},
   "source": [
    "### Auswertung"
   ]
  },
  {
   "cell_type": "code",
   "execution_count": 3,
   "metadata": {},
   "outputs": [
    {
     "name": "stdout",
     "output_type": "stream",
     "text": [
      "Virgo:  16196.727103222529\n",
      "Ursa Major:  19706.479931684735\n"
     ]
    }
   ],
   "source": [
    "#1. Dispersion\n",
    "#Ruhewellenlängen\n",
    "lamb_a = 3888.7; lamb_b= 3964.7; lamb_c = 4026.2; lamb_d= 4143.8; lamb_e = 4471.5\n",
    "lamb_f = 4713.1; lamb_g = 5015.7\n",
    "\n",
    "# Virgo \n",
    "ba = lamb_b - lamb_a / 3 ; ca = lamb_c - lamb_a/7 ; da = lamb_d - lamb_a; ea = lamb_e - lamb_a / 32\n",
    "fa = lamb_f - lamb_a / 46; ga = lamb_g - lamb_a / 54\n",
    "#Disperion for Virgo\n",
    "Disp_Virgo = ba + ca + da + ea + fa + ga / 6\n",
    "\n",
    "#Ursa Major\n",
    "ba = lamb_b - lamb_a / 3 ; ca = lamb_c - lamb_a / 6 ; da = lamb_d - lamb_a / 14; ea = lamb_e - lamb_a / 32\n",
    "fa = lamb_f - lamb_a / 41; ga = lamb_g - lamb_a / 63\n",
    "#Disperion for Ursa Major\n",
    "Disp_Ursa = ba + ca + da + ea + fa + ga / 6\n",
    "\n",
    "#Corona Borealis\n",
    "ba = lamb_b - lamb_a / 3 ; ca = lamb_c - lamb_a / 7 ; da = lamb_d - lamb_a ; ea = lamb_e - lamb_a / 32\n",
    "fa = lamb_f - lamb_a / 47; ga = lamb_g - lamb_a / 64\n",
    "#Disperion for Corona Borealis\n",
    "Disp_Corona = ba + ca + da + ea + fa + ga / 6\n",
    "\n",
    "#Bootes\n",
    "ba = lamb_b - lamb_a / 3 ; ca = lamb_c - lamb_a / 6 ; da = lamb_d - lamb_a / 14; ea = lamb_e - lamb_a / 33\n",
    "fa = lamb_f - lamb_a / 41; ga = lamb_g - lamb_a / 64\n",
    "#Disperion for Bootes\n",
    "Disp_Bootes = ba + ca + da + ea + fa + ga / 6\n",
    "\n",
    "# Hydra\n",
    "ba = lamb_b - lamb_a / 3 ; ca = lamb_c - lamb_a / 7 ; da = lamb_d - lamb_a / 14; ea = lamb_e - lamb_a / 32\n",
    "fa = lamb_f - lamb_a / 46; ga = lamb_g - lamb_a / 64\n",
    "#Disperion for Hydra\n",
    "Disp_Hydra = ba + ca + da + ea + fa + ga / 6\n",
    "\n",
    "#2\n",
    "#Virgo\n",
    "Virgo_lamb_h = None\n",
    "Virgo_lamnb_k =  None\n",
    "#Ursa Major\n",
    "Ursa_lamb_h = None\n",
    "Ursa_lamb_k = None\n",
    "#Corona Borealis\n",
    "Corona_lamb_h = None\n",
    "Corona_lamb_k = None\n",
    "#Bootes\n",
    "Bootes_lamb_h = None\n",
    "Bootes_lamb_k = None\n",
    "#Hydra\n",
    "Hydra_lamb_h = None\n",
    "Hydra_lamb_k = None\n",
    "\n"
   ]
  },
  {
   "cell_type": "code",
   "execution_count": null,
   "metadata": {},
   "outputs": [],
   "source": []
  }
 ],
 "metadata": {
  "kernelspec": {
   "display_name": "Python 3",
   "language": "python",
   "name": "python3"
  },
  "language_info": {
   "codemirror_mode": {
    "name": "ipython",
    "version": 3
   },
   "file_extension": ".py",
   "mimetype": "text/x-python",
   "name": "python",
   "nbconvert_exporter": "python",
   "pygments_lexer": "ipython3",
   "version": "3.11.9"
  }
 },
 "nbformat": 4,
 "nbformat_minor": 2
}
