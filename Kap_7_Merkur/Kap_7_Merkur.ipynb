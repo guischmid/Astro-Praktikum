{
 "cells": [
  {
   "cell_type": "markdown",
   "metadata": {},
   "source": [
    "# Kapitel 7 Protokoll: Merkur\n",
    "Guilherme Schmid"
   ]
  },
  {
   "cell_type": "markdown",
   "metadata": {},
   "source": [
    "## Beobachtungen\n",
    "\n",
    "1. Abstände:\n",
    "\n",
    "| $\\Delta t (µs$) | Abstand linkes Maximum $mm$ | Abstand rechtes Maximum $mm$ |\n",
    "|-------------------|-----------------------------|------------------------------|\n",
    "| 120               | 9.85                        | 56.93                        |\n",
    "| 210               | 8.21                        | 60.22                        |\n",
    "| 300               | 7.66                        | 62.96                        |\n",
    "| 390               | 8.21                        | 59.12                        |\n",
    "\n",
    "2. Kalibribation:\n",
    "\n",
    "| $\\Delta t (µs$) | Abstand linkes Maximum $Hz$ | Abstand rechtes Maximum $Hz$ |\n",
    "|-------------------|-----------------------------|------------------------------|\n",
    "| 120               | 1.27                        | 7.35                         |\n",
    "| 210               | 1.06                        | 7.75                         |\n",
    "| 300               | 1.00                        | 8.13                         |\n",
    "| 390               | 1.06                        | 7.56                         |\n",
    "\n",
    "## Auswertung \n",
    "### 1. \n",
    "Um den Versatz  $d$ nach der angegebenen Gleichung zu berechnen, benötigen wir die Zeitverzögerung $\\Delta t$ und die Lichtgeschwindigkeit $c$. Die Lichtgeschwindigkeit $c$ beträgt ungefähr $3 \\times 10^8 \\, \\text{m/s}$.\n",
    "\n",
    "Die Gleichung lautet:\n",
    "$$ d = \\frac{1}{2} \\Delta t \\cdot c $$\n",
    "\n",
    "#### Gegebene Werte:\n",
    "\n",
    "- $\\Delta t = 120 \\, \\mu s = 120 \\times 10^{-6} \\, s$\n",
    "- $\\Delta t = 210 \\, \\mu s = 210 \\times 10^{-6} \\, s$\n",
    "- $\\Delta t = 300 \\, \\mu s = 300 \\times 10^{-6} \\, s$\n",
    "- $\\Delta t = 390 \\, \\mu s = 390 \\times 10^{-6} \\, s$\n",
    "\n",
    "#### Berechnung des Versatzes \\(d\\):\n",
    "\n",
    "1. **Für $\\Delta t = 120 \\, \\mu s$:**\n",
    "   $$\n",
    "   d = \\frac{1}{2} \\times 120 \\times 10^{-6} \\, \\text{s} \\times 3 \\times 10^8 \\, \\text{m/s} = 18 \\, \\text{km}\n",
    "   $$\n",
    "\n",
    "2. **Für $\\Delta t = 210 \\, \\mu s$:**\n",
    "   $$\n",
    "   d = \\frac{1}{2} \\times 210 \\times 10^{-6} \\, \\text{s} \\times 3 \\times 10^8 \\, \\text{m/s} = 31.5 \\, \\text{km}\n",
    "   $$\n",
    "\n",
    "3. **Für $\\Delta t = 300 \\, \\mu s$:**\n",
    "   $$\n",
    "   d = \\frac{1}{2} \\times 300 \\times 10^{-6} \\, \\text{s} \\times 3 \\times 10^8 \\, \\text{m/s} = 45 \\, \\text{km}\n",
    "   $$\n",
    "\n",
    "4. **Für $\\Delta t = 390 \\, \\mu s$:**\n",
    "   $$\n",
    "   d = \\frac{1}{2} \\times 390 \\times 10^{-6} \\, \\text{s} \\times 3 \\times 10^8 \\, \\text{m/s} = 58.5 \\, \\text{km}\n",
    "   $$\n",
    "\n",
    "#### Zusammenfassung der berechneten Versätze \\(d\\):\n",
    "\n",
    "| \\(\\Delta t\\) (µs) | Versatz \\(d\\) (km) |\n",
    "|-------------------|--------------------|\n",
    "| 120               | 18                 |\n",
    "| 210               | 31.5               |\n",
    "| 300               | 45                 |\n",
    "| 390               | 58.5               |\n",
    "\n",
    "### 2.\n",
    "  $x= R-d$ und $y=\\sqrt{R^2-x^2}$\n",
    "\n"
   ]
  },
  {
   "cell_type": "code",
   "execution_count": 2,
   "metadata": {},
   "outputs": [
    {
     "data": {
      "text/plain": [
       "{'120': {'x': 2422000.0, 'y': 295831.0328549052},\n",
       " '210': {'x': 2408500.0, 'y': 390803.9789971438},\n",
       " '300': {'x': 2395000.0, 'y': 466449.3541639864},\n",
       " '390': {'x': 2381500.0, 'y': 531091.0938812663}}"
      ]
     },
     "execution_count": 2,
     "metadata": {},
     "output_type": "execute_result"
    }
   ],
   "source": [
    "import math\n",
    "# Gegebener Radius des Merkurs\n",
    "R = 2.44 * 10**6  # in Meter\n",
    "\n",
    "# Versätze in Meter\n",
    "d_values = {\n",
    "    '120': 18000,\n",
    "    '210': 31500,\n",
    "    '300': 45000,\n",
    "    '390': 58500,\n",
    "}\n",
    "\n",
    "# Berechnung von x und y\n",
    "results = {}\n",
    "\n",
    "for dt, d in d_values.items():\n",
    "    x = R - d\n",
    "    y = math.sqrt(R**2 - x**2)\n",
    "    results[dt] = {'x': x, 'y': y}\n",
    "\n",
    "results"
   ]
  },
  {
   "cell_type": "markdown",
   "metadata": {},
   "source": [
    "\n",
    "\n",
    "|$\\Delta t$ $\\mu s$ | $x (m) $         | $y (m) $         |\n",
    "|-------------------|--------------------|--------------------|\n",
    "| 120               | 2,422,000          | 295,831            |\n",
    "| 210               | 2,408,500          | 390,804            |\n",
    "| 300               | 2,395,000          | 466,449            |\n",
    "| 390               | 2,381,500          | 531,091            |\n",
    "\n"
   ]
  },
  {
   "cell_type": "code",
   "execution_count": 3,
   "metadata": {},
   "outputs": [
    {
     "data": {
      "text/plain": [
       "{'mean_left_maxima_pixel': 155.0,\n",
       " 'mean_right_maxima_pixel': 1092.5,\n",
       " 'mean_left_maxima_hz': 1.0943,\n",
       " 'mean_right_maxima_hz': 7.71305}"
      ]
     },
     "execution_count": 3,
     "metadata": {},
     "output_type": "execute_result"
    }
   ],
   "source": [
    "# Gegebene Werte und Kalibrationsfaktor\n",
    "conversion_factor = 0.00706  # Hz/Pixel\n",
    "\n",
    "# Abstände der Maxima in Pixeln\n",
    "maxima_pixel = {\n",
    "    '120': {'left': 180, 'right': 1040},\n",
    "    '210': {'left': 150, 'right': 1100},\n",
    "    '300': {'left': 140, 'right': 1150},\n",
    "    '390': {'left': 150, 'right': 1080},\n",
    "}\n",
    "\n",
    "# Berechnung der Mittelwerte der linken und rechten Maxima in Pixeln\n",
    "left_maxima = [maxima_pixel[dt]['left'] for dt in maxima_pixel]\n",
    "right_maxima = [maxima_pixel[dt]['right'] for dt in maxima_pixel]\n",
    "\n",
    "mean_left_maxima_pixel = sum(left_maxima) / len(left_maxima)\n",
    "mean_right_maxima_pixel = sum(right_maxima) / len(right_maxima)\n",
    "\n",
    "# Umrechnung der Mittelwerte in Hertz\n",
    "mean_left_maxima_hz = mean_left_maxima_pixel * conversion_factor\n",
    "mean_right_maxima_hz = mean_right_maxima_pixel * conversion_factor\n",
    "\n",
    "# Ergebnisse\n",
    "results = {\n",
    "    'mean_left_maxima_pixel': mean_left_maxima_pixel,\n",
    "    'mean_right_maxima_pixel': mean_right_maxima_pixel,\n",
    "    'mean_left_maxima_hz': mean_left_maxima_hz,\n",
    "    'mean_right_maxima_hz': mean_right_maxima_hz,\n",
    "}\n",
    "\n",
    "results"
   ]
  }
 ],
 "metadata": {
  "kernelspec": {
   "display_name": "Python 3",
   "language": "python",
   "name": "python3"
  },
  "language_info": {
   "codemirror_mode": {
    "name": "ipython",
    "version": 3
   },
   "file_extension": ".py",
   "mimetype": "text/x-python",
   "name": "python",
   "nbconvert_exporter": "python",
   "pygments_lexer": "ipython3",
   "version": "3.9.6"
  }
 },
 "nbformat": 4,
 "nbformat_minor": 2
}
